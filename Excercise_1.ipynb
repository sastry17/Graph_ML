{
  "nbformat": 4,
  "nbformat_minor": 0,
  "metadata": {
    "colab": {
      "name": "Excercise-1.ipynb",
      "provenance": []
    },
    "kernelspec": {
      "name": "python3",
      "display_name": "Python 3"
    }
  },
  "cells": [
    {
      "cell_type": "markdown",
      "metadata": {
        "id": "qtuJ-iwUkhxC"
      },
      "source": [
        "# Graph Powered Machine Learning - Exercise 1\n",
        "\n",
        "Group (2 Person)\n",
        "\n",
        "Full Name: Shreyas Srinivasa, Harsh Rajesh Parikh\n",
        "\n",
        "Student Affiliation: AAU\n",
        "\n",
        "Email Address: shsr@es.aau.dk, hrp@et.aau.dk\n",
        "\n",
        "Thanks to Martin Fejrskov Andersen for the assistance on the shortest path task :)"
      ]
    },
    {
      "cell_type": "markdown",
      "metadata": {
        "id": "5ZbvYioaru0Y"
      },
      "source": [
        "# 1.1  Create an RDF Graph representing the same road network and traveltimes"
      ]
    },
    {
      "cell_type": "code",
      "metadata": {
        "id": "RMCkS1P3_ggY"
      },
      "source": [
        "%%capture\n",
        "!pip3 install rdflib\n",
        "!pip3 install networkx"
      ],
      "execution_count": null,
      "outputs": []
    },
    {
      "cell_type": "code",
      "metadata": {
        "id": "UTbC4QhwiL-k"
      },
      "source": [
        "import rdflib\n",
        "from rdflib import Graph\n",
        "from rdflib.namespace import DC, RDF, FOAF, RDFS\n",
        "from rdflib import URIRef, BNode, Literal\n",
        "import networkx"
      ],
      "execution_count": null,
      "outputs": []
    },
    {
      "cell_type": "code",
      "metadata": {
        "id": "j9ALUHVXiOLa"
      },
      "source": [
        "\n",
        "connections = [\n",
        "    ( \"Inverness\", \"Aberdeen\", 3, 2.5 ),\n",
        "    ( \"Aberdeen\", \"Leuchars\", 1.5, 1 ),\n",
        "    ( \"Leuchars\", \"Edinburgh\", 1.5, 3 ),\n",
        "    ( \"Edinburgh\", \"Glasgow\", 1, 1 ),\n",
        "    ( \"Edinburgh\", \"York\", 3.5, 4 ),\n",
        "    ( \"Glasgow\", \"Carlisle\", 1, 1 ),\n",
        "    ( \"Carlisle\", \"York\", 2.5, 3.5 ),\n",
        "    ( \"Carlisle\", \"Birmingham\", 2.0, 1 ),\n",
        "    ( \"Birmingham\", \"London\", 1.5, 2.5 ),\n",
        "    ( \"Leuchars\", \"StAndrews\", 0.2, 0.2 ),\n",
        "    ( \"York\", \"London\", 1.8, 2.0 ),\n",
        "    ( \"London\", \"Brussels\", 2.5, 3.5 ),\n",
        "    ( \"Brussels\", \"Cologne\", 2, 1.5 ),\n",
        "    ( \"Toronto\", \"Winnipeg\", 36, 35 ),\n",
        "    ( \"Winnipeg\", \"Saskatoon\", 12, 5 ),\n",
        "    ( \"Saskatoon\", \"Edmonton\", 12, 17 ),\n",
        "    ( \"Edmonton\", \"Jasper\", 6, 5 ),\n",
        "    ( \"Jasper\", \"Vancouver\", 12, 13 )\n",
        "]\n",
        "\n",
        "cities = [\n",
        "    \"Inverness\",\n",
        "    \"Aberdeen\",\n",
        "    \"Leuchars\",\n",
        "    \"StAndrews\",\n",
        "    \"Edinburgh\",\n",
        "    \"Glasgow\",\n",
        "    \"York\",\n",
        "    \"Cologne\",\n",
        "    \"Carlisle\",\n",
        "    \"Birmingham\",\n",
        "    \"London\",\n",
        "    \"Brussels\",\n",
        "    \"Toronto\",\n",
        "    \"Winnipeg\",\n",
        "    \"Saskatoon\",\n",
        "    \"Edmonton\",\n",
        "    \"Jasper\",\n",
        "    \"Vancouver\"\n",
        "];\n",
        "\n",
        "\n",
        "g = Graph()\n",
        "g.bind(\"foaf\", FOAF)\n",
        "\n",
        "for city1, city2, time1, time2  in connections:\n",
        "    #Forward\n",
        "    citynode=URIRef(city1)\n",
        "    g.add( (citynode, RDF.type, FOAF.Person) )\n",
        "    g.add( (citynode, FOAF.name, Literal(city1)) )\n",
        "    g.add( (citynode, FOAF.knows, URIRef(city2)) )\n",
        "    g.add( (citynode, FOAF.age, Literal(time1) ) )\n",
        "    #Return\n",
        "    citynode=URIRef(city2)\n",
        "    g.add( (citynode, RDF.type, FOAF.Person) )\n",
        "    g.add( (citynode, FOAF.name, Literal(city2)) )\n",
        "    g.add( (citynode, FOAF.knows, URIRef(city1)) )\n",
        "    g.add( (citynode, FOAF.age, Literal(time2) ) )\n",
        "\n",
        "for s, p, o in g:\n",
        "   print((s, p, o))"
      ],
      "execution_count": null,
      "outputs": []
    },
    {
      "cell_type": "markdown",
      "metadata": {
        "id": "IROwT3MRsKDH"
      },
      "source": [
        "# 1.2 Implement a SPARQL query returning all cities which can be reached from London."
      ]
    },
    {
      "cell_type": "code",
      "metadata": {
        "id": "DH2CbFe_6x_7",
        "outputId": "51080332-3bbe-43f5-a330-188ff5a7996d",
        "colab": {
          "base_uri": "https://localhost:8080/",
          "height": 238
        }
      },
      "source": [
        "print(\"Reachable from London:\")\n",
        "\n",
        "result = g.query(\n",
        "  \"\"\"PREFIX  foaf: <http://xmlns.com/foaf/0.1/>\n",
        "  SELECT ?dest WHERE\n",
        "  {\n",
        "   ?x foaf:name \"London\" .\n",
        "   ?x foaf:knows+ ?y .\n",
        "   ?y foaf:name ?dest .\n",
        "  } \"\"\")\n",
        "\n",
        "for row in result:\n",
        "    print(\"%s\" % row)"
      ],
      "execution_count": null,
      "outputs": [
        {
          "output_type": "stream",
          "text": [
            "Reachable from London:\n",
            "Brussels\n",
            "London\n",
            "Cologne\n",
            "York\n",
            "Carlisle\n",
            "Glasgow\n",
            "Edinburgh\n",
            "Leuchars\n",
            "StAndrews\n",
            "Aberdeen\n",
            "Inverness\n",
            "Birmingham\n"
          ],
          "name": "stdout"
        }
      ]
    },
    {
      "cell_type": "markdown",
      "metadata": {
        "id": "uhzpVw-lBezJ"
      },
      "source": [
        "# 1.3 Implement generic python code (i.e., the algorithms don't have to be speci\fed in SPARQL, but could be) for the Single Source Shortest Path algorithm and return the shortest paths to all other cities starting from London. You can choose either Dijkstra's or Bellman-Ford's algorithm."
      ]
    },
    {
      "cell_type": "code",
      "metadata": {
        "id": "u0eO6EkYByix",
        "outputId": "936af87e-b6fb-4f95-dba6-b2cafbdf31ce",
        "colab": {
          "base_uri": "https://localhost:8080/",
          "height": 221
        }
      },
      "source": [
        "origincity=\"London\"\n",
        "for destinationcity in cities:\n",
        "    #print(\"*Destination city is now: \"+destinationcity)\n",
        "    \n",
        "    #init\n",
        "    unvisitedcities = cities.copy()\n",
        "    currentcity=origincity\n",
        "    shortestPath = {}\n",
        "    for i in unvisitedcities:\n",
        "      shortestPath[i]=1000\n",
        "      shortestPath[origincity]=0;\n",
        "      citiesthatarereachableremain=True\n",
        "    \n",
        "    #Continue until we've seen the best path to the destination\n",
        "    while destinationcity in unvisitedcities:\n",
        "        #print(\"Current city is now: \"+currentcity)\n",
        "\n",
        "        #mark current city as visited\n",
        "        unvisitedcities.remove(currentcity)\n",
        "        \n",
        "        #find neighbour nodes\n",
        "        neighbours = {}\n",
        "        for city1, city2, time1, time2  in connections:\n",
        "            if city1 == currentcity:\n",
        "                neighbours[city2] = time1\n",
        "            if city2 == currentcity:\n",
        "                neighbours[city1] = time2\n",
        "        #update neighbours\n",
        "        for n,c in neighbours.items():\n",
        "            if n in unvisitedcities:\n",
        "                lenghtthroughcurrentcity = shortestPath[currentcity]+c\n",
        "                if shortestPath[n] > lenghtthroughcurrentcity:\n",
        "                    #print(\"Updating \"+n+\" with distance \"+str(lenghtthroughcurrentcity))\n",
        "                    shortestPath[n] = lenghtthroughcurrentcity\n",
        "        \n",
        "        #Go to next city, break of the rest of the graph can't be reached\n",
        "        nextcitydistance = 1000\n",
        "        for u in unvisitedcities:\n",
        "            if shortestPath[u] < nextcitydistance:\n",
        "                nextcitydistance = shortestPath[u]\n",
        "                nextcity = u            \n",
        "        if nextcitydistance == 1000:\n",
        "            break               \n",
        "        currentcity=nextcity\n",
        "\n",
        "    #conclude\n",
        "    if shortestPath[destinationcity] < 1000:\n",
        "        print(\"Shortest path from \"+origincity+\" to \"+destinationcity+\" is \"+str(shortestPath[destinationcity]))"
      ],
      "execution_count": null,
      "outputs": [
        {
          "output_type": "stream",
          "text": [
            "Shortest path from London to Inverness is 12.0\n",
            "Shortest path from London to Aberdeen is 9.5\n",
            "Shortest path from London to Leuchars is 8.5\n",
            "Shortest path from London to StAndrews is 8.7\n",
            "Shortest path from London to Edinburgh is 5.5\n",
            "Shortest path from London to Glasgow is 4.5\n",
            "Shortest path from London to York is 2.0\n",
            "Shortest path from London to Cologne is 4.5\n",
            "Shortest path from London to Carlisle is 3.5\n",
            "Shortest path from London to Birmingham is 2.5\n",
            "Shortest path from London to London is 0\n",
            "Shortest path from London to Brussels is 2.5\n"
          ],
          "name": "stdout"
        }
      ]
    },
    {
      "cell_type": "markdown",
      "metadata": {
        "id": "oKml8JFevk9o"
      },
      "source": [
        "# 2.0 Pagerank\n",
        "For a given directed networkx Graph (e.g., G = nx.DiGraph(nx.path graph(4))  write a PageRank algorithm using python from scratch (i.e., don't use nx.pagerank()).\n",
        "Your PageRank algorithm should consider a parameter alpha, representing\n",
        "the damping factor and return a dictionary of nodes with their PageRank as\n",
        "value."
      ]
    },
    {
      "cell_type": "code",
      "metadata": {
        "id": "OUnUVvvgTJod"
      },
      "source": [
        "import networkx as nx\n",
        "import matplotlib.pyplot as plt\n",
        "import numpy as np\n",
        "from scipy.sparse import csc_matrix"
      ],
      "execution_count": null,
      "outputs": []
    },
    {
      "cell_type": "code",
      "metadata": {
        "id": "yNYEP-01TNDH",
        "outputId": "41461671-c981-4ac3-d344-3a5a547e160b",
        "colab": {
          "base_uri": "https://localhost:8080/",
          "height": 373
        }
      },
      "source": [
        "def pageRank(G, alpha = .85, maxerr = .0001):\n",
        "\n",
        "    \n",
        "    \"\"\"\n",
        "    Computes the pagerank for each of the n states\n",
        "    Parameters\n",
        "    ----------\n",
        "    G: matrix representing state transitions\n",
        "    alpha: damping factor \n",
        "    maxerr: if the sum of pageranks between iterations is below this we will\n",
        "            have converged.\n",
        "    \"\"\"\n",
        "\n",
        "   \n",
        "    #Constructing a numpy array from the graph and shaping it\n",
        "    G = nx.to_numpy_matrix(G)\n",
        "    n = G.shape[0]\n",
        "\n",
        "    # transform G into markov matrix M\n",
        "    M = csc_matrix(G,dtype=np.float)\n",
        "    rsums = np.array(M.sum(1))[:,0]\n",
        "    ri, ci = M.nonzero()\n",
        "    M.data /= rsums[ri]\n",
        "\n",
        "    # bool array of sink states\n",
        "    sink = rsums==0\n",
        "\n",
        "    # Compute pagerank \"r\" until we converge\n",
        "    ro, r = np.zeros(n), np.ones(n)\n",
        "    while np.sum(np.abs(r-ro)) > maxerr:\n",
        "        ro = r.copy()\n",
        "        # calculate each pagerank at a time\n",
        "        for i in range(0,n):\n",
        "            # inlinks of state i\n",
        "            Mi = np.array(M[:,i].todense())[:,0]\n",
        "            # Account for sink states\n",
        "            Di = sink / float(n)\n",
        "            # Account for teleportation to state i\n",
        "            Ei = np.ones(n) / float(n)\n",
        "\n",
        "            r[i] = ro.dot( Mi*alpha + Di*alpha + Ei*(1-alpha) )\n",
        "\n",
        "    # return normalized pagerank\n",
        "    return r/float(sum(r))\n",
        "    \n",
        "\n",
        "if __name__ == '__main__':\n",
        "    \n",
        "    \n",
        "    \"\"\"\n",
        "    Generating a random directed graph G\n",
        "    \"\"\"\n",
        "    \n",
        "    # setting the number of nodes\n",
        "    nodes = 20\n",
        "    \n",
        "    #G = nx.gn_graph(nodes)\n",
        "    G = nx.gnr_graph(nodes, 0.5)\n",
        "   \n",
        "    nx.draw(G, with_labels = True)\n",
        "    plt.show()\n",
        "    \n",
        "    \n",
        "    \n",
        "    \"\"\"\n",
        "    computing pagerank\n",
        "    \"\"\"\n",
        "    score = pageRank(G, 0.85, .0001)\n",
        "     \n",
        "    rank = {}\n",
        "    \n",
        "    \n",
        "print(\"Pagerank:\")\n",
        "\n",
        "for i in range(0,nodes):\n",
        "  rank[i] = score[i]\n",
        "print(rank)"
      ],
      "execution_count": null,
      "outputs": [
        {
          "output_type": "display_data",
          "data": {
            "image/png": "[encoded data removed]",
            "text/plain": [
              "<Figure size 432x288 with 1 Axes>"
            ]
          },
          "metadata": {
            "tags": []
          }
        },
        {
          "output_type": "stream",
          "text": [
            "Pagerank:\n",
            "{0: 0.3402176997524795, 1: 0.12079205242348792, 2: 0.07235592519110112, 3: 0.02195928590546635, 4: 0.02195928590546635, 5: 0.059289870801467484, 6: 0.02195928590546635, 7: 0.05928987080146749, 8: 0.02195928590546635, 9: 0.02195928590546635, 10: 0.02195928590546635, 11: 0.02195928590546635, 12: 0.02195928590546635, 13: 0.02195928590546635, 14: 0.02195928590546635, 15: 0.02195928590546635, 16: 0.040624578353466924, 17: 0.02195928590546635, 18: 0.02195928590546635, 19: 0.02195928590546635}\n"
          ],
          "name": "stdout"
        }
      ]
    }
  ]
}