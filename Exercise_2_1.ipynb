{
  "nbformat": 4,
  "nbformat_minor": 0,
  "metadata": {
    "colab": {
      "name": "Exercise-2_1.ipynb",
      "provenance": []
    },
    "kernelspec": {
      "name": "python3",
      "display_name": "Python 3"
    }
  },
  "cells": [
    {
      "cell_type": "markdown",
      "metadata": {
        "id": "p14P4Vjyb4cY"
      },
      "source": [
        "# Graph Powered Machine Learning - Exercise 2, Task 1\n",
        "\n",
        "Group (2 Person)\n",
        "\n",
        "Full Name: Shreyas Srinivasa, Harsh Rajesh Parikh\n",
        "\n",
        "Student Affiliation: AAU\n",
        "\n",
        "Email Address: shsr@es.aau.dk, hrp@et.aau.dk\n"
      ]
    },
    {
      "cell_type": "markdown",
      "metadata": {
        "id": "VLj1GcYUca36"
      },
      "source": [
        "**1. A Comprehensive Survey on Graph Neural Networks**\n",
        "\n",
        "Read sections 1,2,3,6 of the A Comprehensive Survey on Graph Neural Networks\n",
        "and discuss the following questions (roughly 1-2 paragraphs each):"
      ]
    },
    {
      "cell_type": "markdown",
      "metadata": {
        "id": "EA19ibS_co0o"
      },
      "source": [
        "**1.1 How are network embeddings and GCNs related?**\n",
        "\n",
        "Network  embedding  aims  to  represent  network vertices into a low-dimensional vector space, by preservingboth network topology structure and node content informa-tion,  so  that  any  subsequent  graph  analytics  tasks  such  asclassification, clustering, and recommendation can be easilyperformed  by  using  simple  off-the-shelf  learning  machinealgorithm (e.g., support vector machines for classification). \n",
        "Graph Convolutional Neural Networks (GCNs) can be trained using supervised learning methods to create graph embeddings. GCNs generalize the convolution operation used by conventional convolutional neural networks, which can only operate on data structured in grids, to be able to operate on graphs of arbitrary structure. To embed an entire graph, GCNs begin by creating embeddings for each individual node within the graph. Each node’s embedding is created using its features combined with an average of its neighbors embeddings. \n",
        "\n",
        "The final embeddings of all nodes in a graph can be aggregated together to embed the entire graph. Because GCNs embed nodes use a node’s own features and aggregation of its neighbors’ embeddings, they incorporate both node feature information and graph structure information when embedding a graph.GCNs are typically trained using supervised learning methods to classify graphs into a discrete set of categories. The parameters of a GCN can be optimized using gradient descent to minimize its loss on a training set of graphs. In the process of reducing its classification loss, the GCN must learn to generate graph embeddings that distinguish different types of graphs. These embeddings can be extracted and used for other purposes.\n",
        "\n",
        "**1.2 What are the potential outputs of GCNs? Please describe one use-case\n",
        "for each potential output.**\n",
        "\n",
        "-node level features: Outputs relate to node regression and classification task. \n",
        "The designed model takes as input an initial set of features for each node and performs several steps of propagation outwards by following the structure of the graph.\n",
        "(for example predicting university affiliation of a class of phd students from many universities, given for example knowledge about who knows who (which edges exist))\n",
        "\n",
        "-edge level features: Outputs relate to edge classification and link prediction tasks.\n",
        "(for example predicting if two professors in same field over different countries from many universities, given for example knowledge about a students university/company affilation, similar research interests, area of expertise etc.)\n",
        "\n",
        "-graph level features: Outputs relate to the graph classification task.\n",
        "(for example predicting if two teams of young detectives are assigned to investigate a murder solving crime, where none from one group knows the other (a bipartite graph)\n",
        "\n",
        "**1.3 What are value is added by Graph Attention Networks over GCNs?\n",
        "What are potential disadvantage?**\n",
        "\n",
        "For GANs, training can be done using just a part of the graph, enabling batch computation and \"new node\" prediction with priority based sampling. \n",
        "GAN was originally used for translation task and used to memorize importance over several steps and be used as a leverage where the memory can be used to save vital information. \n",
        "\n",
        "GAN can adaptively learn the importance of each neighbors and concatenation of values in new graphs.\n",
        "Graphs also let you impose a relational inductive bias in data — some prior knowledge you have about the problem. Also, the salientness of a node in the topology is better captured in terms of derived weights and concatenation of values in new graphs making it inductive over GCN's.\n",
        "\n",
        "Diasadvantages: Memory consumption and computation cost (Since the attention weights between each pair of neighbors must be computed)\n",
        "\n",
        "**1.4 Why are GCNs relevant for Computer Vision?**\n",
        "\n",
        "In most computer vision and machine learning applications, data can be actually viewed as graphs even though you used to represent them as another data structure.\n",
        "Representing your data as graph(s) gives you a lot of flexibility and can give you a very different and interesting perspective on your problem.\n",
        "Graphs also let you impose a relational inductive bias in data — some prior knowledge you have about the problem or the design you are working on to solve. \n",
        "\n",
        "For example when creating online video game scenes, a modern-day house would typically have solar panels on rooftop, a garage next to the house with a car in it, a house would have a number of windows and curtains etc.\n",
        "Finally, the human race can become closer to solving important problems that previously were too challenging, such as: drug discovery for cancer,better understanding of the human brain connectome, blowing of a transformer, switching and control of a IGBT.\n",
        "\n",
        "\n",
        "---\n",
        "\n"
      ]
    }
  ]
}