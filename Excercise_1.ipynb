{
  "nbformat": 4,
  "nbformat_minor": 0,
  "metadata": {
    "colab": {
      "name": "Excercise-1.ipynb",
      "provenance": []
    },
    "kernelspec": {
      "name": "python3",
      "display_name": "Python 3"
    }
  },
  "cells": [
    {
      "cell_type": "markdown",
      "metadata": {
        "id": "5ZbvYioaru0Y",
        "colab_type": "text"
      },
      "source": [
        "# 1.1  Create an RDF Graph representing the same road network and traveltimes"
      ]
    },
    {
      "cell_type": "code",
      "metadata": {
        "id": "RMCkS1P3_ggY",
        "colab_type": "code",
        "colab": {}
      },
      "source": [
        "%%capture\n",
        "!pip3 install rdflib"
      ],
      "execution_count": 7,
      "outputs": []
    },
    {
      "cell_type": "code",
      "metadata": {
        "id": "UTbC4QhwiL-k",
        "colab_type": "code",
        "colab": {}
      },
      "source": [
        "import rdflib\n",
        "from rdflib import Graph\n",
        "from rdflib.namespace import DC, RDF, FOAF, RDFS\n",
        "from rdflib import URIRef, BNode, Literal"
      ],
      "execution_count": 8,
      "outputs": []
    },
    {
      "cell_type": "code",
      "metadata": {
        "id": "j9ALUHVXiOLa",
        "colab_type": "code",
        "colab": {
          "base_uri": "https://localhost:8080/",
          "height": 1000
        },
        "outputId": "158ac9b3-3342-4229-da43-b82ac44b2595"
      },
      "source": [
        "g = Graph()\n",
        "# Graph using N3 syntax\n",
        "n3data = \"\"\"\\\n",
        "@prefix : <http://www.snee.com/ns/Railnetwork#> .\n",
        ":Inverness :hasConnection :Aberdeen ;\n",
        "           :distance      :3 . \n",
        ":Aberdeen :hasConnection :Inverness ;\n",
        "      :distance    :2.5 .\n",
        ":Aberdeen :hasConnection :Leuchars ;\n",
        "           :distance    :1.5 .\n",
        ":Leuchars :hasConnection :Aberdeen ;\n",
        "           :distance    :1 .\n",
        ":Leuchars :hasConnection :Edinburgh ;\n",
        "           :distance    :1.5 .\n",
        ":Edinburgh :hasConnection :Leuchars ;\n",
        "           :distance    :3 .\n",
        ":Edinburgh :hasConnection :Glasgow  ;\n",
        "           :distance    :1  .\n",
        ":Glasgow :hasConnection  :Edinburgh  ;\n",
        "           :distance    :1  .\n",
        ":Edinburgh :hasConnection :York  ;\n",
        "           :distance    :3.5  .\n",
        ":York     :hasConnection :Edinburgh  ;\n",
        "           :distance    :4  .\n",
        ":Glasgow  :hasConnection :Carlisle   ;\n",
        "           :distance    :1  .\n",
        ":Carlisle :hasConnection :Glasgow  ;\n",
        "           :distance    :1  .\n",
        ":Carlisle :hasConnection :York  ;\n",
        "           :distance    :2.5  .\n",
        ":York     :hasConnection :Carlisle   ;\n",
        "           :distance    :3.5  .\n",
        ":Birmingham :hasConnection :London  ;\n",
        "           :distance    :1.5  .\n",
        ":London   :hasConnection :Birmingham ;\n",
        "           :distance    :2.5 .\n",
        ":Leuchars :hasConnection :StAndrews ;\n",
        "           :distance      :0.2 . \n",
        ":StAndrews :hasConnection :Leuchars ;\n",
        "      :distance    :0.2 .\n",
        ":York :hasConnection :London ;\n",
        "           :distance    :1.8 .\n",
        ":London :hasConnection :York ;\n",
        "           :distance    :2.0 .\n",
        ":Brussels :hasConnection :Cologne ;\n",
        "           :distance    :2 .\n",
        ":Cologne :hasConnection :Brussels ;\n",
        "           :distance    :1.5 .\n",
        ":Toronto :hasConnection :Winnipeg  ;\n",
        "           :distance    :36  .\n",
        ":Winnipeg :hasConnection  :Toronto  ;\n",
        "           :distance    :35  .\n",
        ":Winnipeg :hasConnection :Saskatoon  ;\n",
        "           :distance    :12  .\n",
        ":Saskatoon :hasConnection :Winnipeg  ;\n",
        "           :distance    :5  .\n",
        ":Saskatoon :hasConnection :Edmonton  ;\n",
        "           :distance    :12  .\n",
        ":Edmonton :hasConnection :Saskatoon  ;\n",
        "           :distance    :17  .\n",
        ":Edmonton :hasConnection :Jasper  ;\n",
        "           :distance    :6  .\n",
        ":Jasper :hasConnection :Edmonton  ;\n",
        "           :distance    :5  .\n",
        ":Jasper :hasConnection :Vancouver  ;\n",
        "           :distance    :12  .\n",
        ":Vancouver :hasConnection :Jasper  ;\n",
        "           :distance    :13  .\"\"\"\n",
        "g.parse(data=n3data, format=\"n3\")\n",
        "#print all triples\n",
        "for s, p, o in g:\n",
        "   print((s, p, o))"
      ],
      "execution_count": 49,
      "outputs": [
        {
          "output_type": "stream",
          "text": [
            "(rdflib.term.URIRef('http://www.snee.com/ns/Railnetwork#Cologne'), rdflib.term.URIRef('http://www.snee.com/ns/Railnetwork#distance'), rdflib.term.URIRef('http://www.snee.com/ns/Railnetwork#1.5'))\n",
            "(rdflib.term.URIRef('http://www.snee.com/ns/Railnetwork#Saskatoon'), rdflib.term.URIRef('http://www.snee.com/ns/Railnetwork#distance'), rdflib.term.URIRef('http://www.snee.com/ns/Railnetwork#5'))\n",
            "(rdflib.term.URIRef('http://www.snee.com/ns/Railnetwork#York'), rdflib.term.URIRef('http://www.snee.com/ns/Railnetwork#hasConnection'), rdflib.term.URIRef('http://www.snee.com/ns/Railnetwork#Carlisle'))\n",
            "(rdflib.term.URIRef('http://www.snee.com/ns/Railnetwork#Vancouver'), rdflib.term.URIRef('http://www.snee.com/ns/Railnetwork#hasConnection'), rdflib.term.URIRef('http://www.snee.com/ns/Railnetwork#Jasper'))\n",
            "(rdflib.term.URIRef('http://www.snee.com/ns/Railnetwork#Glasgow'), rdflib.term.URIRef('http://www.snee.com/ns/Railnetwork#hasConnection'), rdflib.term.URIRef('http://www.snee.com/ns/Railnetwork#Edinburgh'))\n",
            "(rdflib.term.URIRef('http://www.snee.com/ns/Railnetwork#StAndrews'), rdflib.term.URIRef('http://www.snee.com/ns/Railnetwork#distance'), rdflib.term.URIRef('http://www.snee.com/ns/Railnetwork#0.2'))\n",
            "(rdflib.term.URIRef('http://www.snee.com/ns/Railnetwork#Edinburgh'), rdflib.term.URIRef('http://www.snee.com/ns/Railnetwork#distance'), rdflib.term.URIRef('http://www.snee.com/ns/Railnetwork#1'))\n",
            "(rdflib.term.URIRef('http://www.snee.com/ns/Railnetwork#Aberdeen'), rdflib.term.URIRef('http://www.snee.com/ns/Railnetwork#distance'), rdflib.term.URIRef('http://www.snee.com/ns/Railnetwork#1.5'))\n",
            "(rdflib.term.URIRef('http://www.snee.com/ns/Railnetwork#Winnipeg'), rdflib.term.URIRef('http://www.snee.com/ns/Railnetwork#hasConnection'), rdflib.term.URIRef('http://www.snee.com/ns/Railnetwork#Toronto'))\n",
            "(rdflib.term.URIRef('http://www.snee.com/ns/Railnetwork#Leuchars'), rdflib.term.URIRef('http://www.snee.com/ns/Railnetwork#hasConnection'), rdflib.term.URIRef('http://www.snee.com/ns/Railnetwork#Edinburgh'))\n",
            "(rdflib.term.URIRef('http://www.snee.com/ns/Railnetwork#Edinburgh'), rdflib.term.URIRef('http://www.snee.com/ns/Railnetwork#distance'), rdflib.term.URIRef('http://www.snee.com/ns/Railnetwork#3'))\n",
            "(rdflib.term.URIRef('http://www.snee.com/ns/Railnetwork#London'), rdflib.term.URIRef('http://www.snee.com/ns/Railnetwork#distance'), rdflib.term.URIRef('http://www.snee.com/ns/Railnetwork#2.0'))\n",
            "(rdflib.term.URIRef('http://www.snee.com/ns/Railnetwork#Inverness'), rdflib.term.URIRef('http://www.snee.com/ns/Railnetwork#distance'), rdflib.term.URIRef('http://www.snee.com/ns/Railnetwork#3'))\n",
            "(rdflib.term.URIRef('http://www.snee.com/ns/Railnetwork#Saskatoon'), rdflib.term.URIRef('http://www.snee.com/ns/Railnetwork#distance'), rdflib.term.URIRef('http://www.snee.com/ns/Railnetwork#12'))\n",
            "(rdflib.term.URIRef('http://www.snee.com/ns/Railnetwork#Edinburgh'), rdflib.term.URIRef('http://www.snee.com/ns/Railnetwork#hasConnection'), rdflib.term.URIRef('http://www.snee.com/ns/Railnetwork#Glasgow'))\n",
            "(rdflib.term.URIRef('http://www.snee.com/ns/Railnetwork#Edmonton'), rdflib.term.URIRef('http://www.snee.com/ns/Railnetwork#hasConnection'), rdflib.term.URIRef('http://www.snee.com/ns/Railnetwork#Saskatoon'))\n",
            "(rdflib.term.URIRef('http://www.snee.com/ns/Railnetwork#Brussels'), rdflib.term.URIRef('http://www.snee.com/ns/Railnetwork#distance'), rdflib.term.URIRef('http://www.snee.com/ns/Railnetwork#2'))\n",
            "(rdflib.term.URIRef('http://www.snee.com/ns/Railnetwork#York'), rdflib.term.URIRef('http://www.snee.com/ns/Railnetwork#hasConnection'), rdflib.term.URIRef('http://www.snee.com/ns/Railnetwork#London'))\n",
            "(rdflib.term.URIRef('http://www.snee.com/ns/Railnetwork#Carlisle'), rdflib.term.URIRef('http://www.snee.com/ns/Railnetwork#hasConnection'), rdflib.term.URIRef('http://www.snee.com/ns/Railnetwork#Glasgow'))\n",
            "(rdflib.term.URIRef('http://www.snee.com/ns/Railnetwork#Toronto'), rdflib.term.URIRef('http://www.snee.com/ns/Railnetwork#distance'), rdflib.term.URIRef('http://www.snee.com/ns/Railnetwork#36'))\n",
            "(rdflib.term.URIRef('http://www.snee.com/ns/Railnetwork#Winnipeg'), rdflib.term.URIRef('http://www.snee.com/ns/Railnetwork#distance'), rdflib.term.URIRef('http://www.snee.com/ns/Railnetwork#35'))\n",
            "(rdflib.term.URIRef('http://www.snee.com/ns/Railnetwork#Aberdeen'), rdflib.term.URIRef('http://www.snee.com/ns/Railnetwork#hasConnection'), rdflib.term.URIRef('http://www.snee.com/ns/Railnetwork#Inverness'))\n",
            "(rdflib.term.URIRef('http://www.snee.com/ns/Railnetwork#London'), rdflib.term.URIRef('http://www.snee.com/ns/Railnetwork#distance'), rdflib.term.URIRef('http://www.snee.com/ns/Railnetwork#2.5'))\n",
            "(rdflib.term.URIRef('http://www.snee.com/ns/Railnetwork#Glasgow'), rdflib.term.URIRef('http://www.snee.com/ns/Railnetwork#distance'), rdflib.term.URIRef('http://www.snee.com/ns/Railnetwork#1'))\n",
            "(rdflib.term.URIRef('http://www.snee.com/ns/Railnetwork#Edinburgh'), rdflib.term.URIRef('http://www.snee.com/ns/Railnetwork#hasConnection'), rdflib.term.URIRef('http://www.snee.com/ns/Railnetwork#Leuchars'))\n",
            "(rdflib.term.URIRef('http://www.snee.com/ns/Railnetwork#Winnipeg'), rdflib.term.URIRef('http://www.snee.com/ns/Railnetwork#distance'), rdflib.term.URIRef('http://www.snee.com/ns/Railnetwork#12'))\n",
            "(rdflib.term.URIRef('http://www.snee.com/ns/Railnetwork#York'), rdflib.term.URIRef('http://www.snee.com/ns/Railnetwork#distance'), rdflib.term.URIRef('http://www.snee.com/ns/Railnetwork#1.8'))\n",
            "(rdflib.term.URIRef('http://www.snee.com/ns/Railnetwork#Saskatoon'), rdflib.term.URIRef('http://www.snee.com/ns/Railnetwork#hasConnection'), rdflib.term.URIRef('http://www.snee.com/ns/Railnetwork#Winnipeg'))\n",
            "(rdflib.term.URIRef('http://www.snee.com/ns/Railnetwork#Leuchars'), rdflib.term.URIRef('http://www.snee.com/ns/Railnetwork#distance'), rdflib.term.URIRef('http://www.snee.com/ns/Railnetwork#1'))\n",
            "(rdflib.term.URIRef('http://www.snee.com/ns/Railnetwork#York'), rdflib.term.URIRef('http://www.snee.com/ns/Railnetwork#hasConnection'), rdflib.term.URIRef('http://www.snee.com/ns/Railnetwork#Edinburgh'))\n",
            "(rdflib.term.URIRef('http://www.snee.com/ns/Railnetwork#Leuchars'), rdflib.term.URIRef('http://www.snee.com/ns/Railnetwork#hasConnection'), rdflib.term.URIRef('http://www.snee.com/ns/Railnetwork#StAndrews'))\n",
            "(rdflib.term.URIRef('http://www.snee.com/ns/Railnetwork#Leuchars'), rdflib.term.URIRef('http://www.snee.com/ns/Railnetwork#hasConnection'), rdflib.term.URIRef('http://www.snee.com/ns/Railnetwork#Aberdeen'))\n",
            "(rdflib.term.URIRef('http://www.snee.com/ns/Railnetwork#StAndrews'), rdflib.term.URIRef('http://www.snee.com/ns/Railnetwork#hasConnection'), rdflib.term.URIRef('http://www.snee.com/ns/Railnetwork#Leuchars'))\n",
            "(rdflib.term.URIRef('http://www.snee.com/ns/Railnetwork#Jasper'), rdflib.term.URIRef('http://www.snee.com/ns/Railnetwork#distance'), rdflib.term.URIRef('http://www.snee.com/ns/Railnetwork#5'))\n",
            "(rdflib.term.URIRef('http://www.snee.com/ns/Railnetwork#York'), rdflib.term.URIRef('http://www.snee.com/ns/Railnetwork#distance'), rdflib.term.URIRef('http://www.snee.com/ns/Railnetwork#4'))\n",
            "(rdflib.term.URIRef('http://www.snee.com/ns/Railnetwork#Carlisle'), rdflib.term.URIRef('http://www.snee.com/ns/Railnetwork#hasConnection'), rdflib.term.URIRef('http://www.snee.com/ns/Railnetwork#York'))\n",
            "(rdflib.term.URIRef('http://www.snee.com/ns/Railnetwork#London'), rdflib.term.URIRef('http://www.snee.com/ns/Railnetwork#hasConnection'), rdflib.term.URIRef('http://www.snee.com/ns/Railnetwork#York'))\n",
            "(rdflib.term.URIRef('http://www.snee.com/ns/Railnetwork#York'), rdflib.term.URIRef('http://www.snee.com/ns/Railnetwork#distance'), rdflib.term.URIRef('http://www.snee.com/ns/Railnetwork#3.5'))\n",
            "(rdflib.term.URIRef('http://www.snee.com/ns/Railnetwork#Winnipeg'), rdflib.term.URIRef('http://www.snee.com/ns/Railnetwork#hasConnection'), rdflib.term.URIRef('http://www.snee.com/ns/Railnetwork#Saskatoon'))\n",
            "(rdflib.term.URIRef('http://www.snee.com/ns/Railnetwork#Aberdeen'), rdflib.term.URIRef('http://www.snee.com/ns/Railnetwork#distance'), rdflib.term.URIRef('http://www.snee.com/ns/Railnetwork#2.5'))\n",
            "(rdflib.term.URIRef('http://www.snee.com/ns/Railnetwork#Edinburgh'), rdflib.term.URIRef('http://www.snee.com/ns/Railnetwork#hasConnection'), rdflib.term.URIRef('http://www.snee.com/ns/Railnetwork#York'))\n",
            "(rdflib.term.URIRef('http://www.snee.com/ns/Railnetwork#Jasper'), rdflib.term.URIRef('http://www.snee.com/ns/Railnetwork#hasConnection'), rdflib.term.URIRef('http://www.snee.com/ns/Railnetwork#Vancouver'))\n",
            "(rdflib.term.URIRef('http://www.snee.com/ns/Railnetwork#Glasgow'), rdflib.term.URIRef('http://www.snee.com/ns/Railnetwork#hasConnection'), rdflib.term.URIRef('http://www.snee.com/ns/Railnetwork#Carlisle'))\n",
            "(rdflib.term.URIRef('http://www.snee.com/ns/Railnetwork#Edinburgh'), rdflib.term.URIRef('http://www.snee.com/ns/Railnetwork#distance'), rdflib.term.URIRef('http://www.snee.com/ns/Railnetwork#3.5'))\n",
            "(rdflib.term.URIRef('http://www.snee.com/ns/Railnetwork#Toronto'), rdflib.term.URIRef('http://www.snee.com/ns/Railnetwork#hasConnection'), rdflib.term.URIRef('http://www.snee.com/ns/Railnetwork#Winnipeg'))\n",
            "(rdflib.term.URIRef('http://www.snee.com/ns/Railnetwork#Edmonton'), rdflib.term.URIRef('http://www.snee.com/ns/Railnetwork#distance'), rdflib.term.URIRef('http://www.snee.com/ns/Railnetwork#6'))\n",
            "(rdflib.term.URIRef('http://www.snee.com/ns/Railnetwork#Vancouver'), rdflib.term.URIRef('http://www.snee.com/ns/Railnetwork#distance'), rdflib.term.URIRef('http://www.snee.com/ns/Railnetwork#13'))\n",
            "(rdflib.term.URIRef('http://www.snee.com/ns/Railnetwork#Leuchars'), rdflib.term.URIRef('http://www.snee.com/ns/Railnetwork#distance'), rdflib.term.URIRef('http://www.snee.com/ns/Railnetwork#1.5'))\n",
            "(rdflib.term.URIRef('http://www.snee.com/ns/Railnetwork#Edmonton'), rdflib.term.URIRef('http://www.snee.com/ns/Railnetwork#hasConnection'), rdflib.term.URIRef('http://www.snee.com/ns/Railnetwork#Jasper'))\n",
            "(rdflib.term.URIRef('http://www.snee.com/ns/Railnetwork#Birmingham'), rdflib.term.URIRef('http://www.snee.com/ns/Railnetwork#distance'), rdflib.term.URIRef('http://www.snee.com/ns/Railnetwork#1.5'))\n",
            "(rdflib.term.URIRef('http://www.snee.com/ns/Railnetwork#London'), rdflib.term.URIRef('http://www.snee.com/ns/Railnetwork#hasConnection'), rdflib.term.URIRef('http://www.snee.com/ns/Railnetwork#Birmingham'))\n",
            "(rdflib.term.URIRef('http://www.snee.com/ns/Railnetwork#Jasper'), rdflib.term.URIRef('http://www.snee.com/ns/Railnetwork#distance'), rdflib.term.URIRef('http://www.snee.com/ns/Railnetwork#12'))\n",
            "(rdflib.term.URIRef('http://www.snee.com/ns/Railnetwork#Birmingham'), rdflib.term.URIRef('http://www.snee.com/ns/Railnetwork#hasConnection'), rdflib.term.URIRef('http://www.snee.com/ns/Railnetwork#London'))\n",
            "(rdflib.term.URIRef('http://www.snee.com/ns/Railnetwork#Cologne'), rdflib.term.URIRef('http://www.snee.com/ns/Railnetwork#hasConnection'), rdflib.term.URIRef('http://www.snee.com/ns/Railnetwork#Brussels'))\n",
            "(rdflib.term.URIRef('http://www.snee.com/ns/Railnetwork#Aberdeen'), rdflib.term.URIRef('http://www.snee.com/ns/Railnetwork#hasConnection'), rdflib.term.URIRef('http://www.snee.com/ns/Railnetwork#Leuchars'))\n",
            "(rdflib.term.URIRef('http://www.snee.com/ns/Railnetwork#Edmonton'), rdflib.term.URIRef('http://www.snee.com/ns/Railnetwork#distance'), rdflib.term.URIRef('http://www.snee.com/ns/Railnetwork#17'))\n",
            "(rdflib.term.URIRef('http://www.snee.com/ns/Railnetwork#Leuchars'), rdflib.term.URIRef('http://www.snee.com/ns/Railnetwork#distance'), rdflib.term.URIRef('http://www.snee.com/ns/Railnetwork#0.2'))\n",
            "(rdflib.term.URIRef('http://www.snee.com/ns/Railnetwork#Saskatoon'), rdflib.term.URIRef('http://www.snee.com/ns/Railnetwork#hasConnection'), rdflib.term.URIRef('http://www.snee.com/ns/Railnetwork#Edmonton'))\n",
            "(rdflib.term.URIRef('http://www.snee.com/ns/Railnetwork#Carlisle'), rdflib.term.URIRef('http://www.snee.com/ns/Railnetwork#distance'), rdflib.term.URIRef('http://www.snee.com/ns/Railnetwork#2.5'))\n",
            "(rdflib.term.URIRef('http://www.snee.com/ns/Railnetwork#Carlisle'), rdflib.term.URIRef('http://www.snee.com/ns/Railnetwork#distance'), rdflib.term.URIRef('http://www.snee.com/ns/Railnetwork#1'))\n",
            "(rdflib.term.URIRef('http://www.snee.com/ns/Railnetwork#Inverness'), rdflib.term.URIRef('http://www.snee.com/ns/Railnetwork#hasConnection'), rdflib.term.URIRef('http://www.snee.com/ns/Railnetwork#Aberdeen'))\n",
            "(rdflib.term.URIRef('http://www.snee.com/ns/Railnetwork#Brussels'), rdflib.term.URIRef('http://www.snee.com/ns/Railnetwork#hasConnection'), rdflib.term.URIRef('http://www.snee.com/ns/Railnetwork#Cologne'))\n",
            "(rdflib.term.URIRef('http://www.snee.com/ns/Railnetwork#Jasper'), rdflib.term.URIRef('http://www.snee.com/ns/Railnetwork#hasConnection'), rdflib.term.URIRef('http://www.snee.com/ns/Railnetwork#Edmonton'))\n"
          ],
          "name": "stdout"
        }
      ]
    },
    {
      "cell_type": "markdown",
      "metadata": {
        "id": "IROwT3MRsKDH",
        "colab_type": "text"
      },
      "source": [
        "# 1.2 Implement a SPARQL query returning all cities which can be reachedfrom London.  Bonus:  all cities which can be reached within less than5 hours.  Hint:  You might want to consider property paths."
      ]
    },
    {
      "cell_type": "code",
      "metadata": {
        "id": "xL_NyDRasRkJ",
        "colab_type": "code",
        "colab": {}
      },
      "source": [
        ""
      ],
      "execution_count": null,
      "outputs": []
    }
  ]
}