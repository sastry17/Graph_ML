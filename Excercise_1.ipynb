{
  "nbformat": 4,
  "nbformat_minor": 0,
  "metadata": {
    "colab": {
      "name": "Excercise-1.ipynb",
      "provenance": []
    },
    "kernelspec": {
      "name": "python3",
      "display_name": "Python 3"
    }
  },
  "cells": [
    {
      "cell_type": "markdown",
      "metadata": {
        "id": "5ZbvYioaru0Y",
        "colab_type": "text"
      },
      "source": [
        "# 1.1  Create an RDF Graph representing the same road network and traveltimes"
      ]
    },
    {
      "cell_type": "code",
      "metadata": {
        "id": "RMCkS1P3_ggY",
        "colab_type": "code",
        "colab": {}
      },
      "source": [
        "%%capture\n",
        "!pip3 install rdflib"
      ],
      "execution_count": 7,
      "outputs": []
    },
    {
      "cell_type": "code",
      "metadata": {
        "id": "UTbC4QhwiL-k",
        "colab_type": "code",
        "colab": {}
      },
      "source": [
        "import rdflib\n",
        "from rdflib import Graph\n",
        "from rdflib.namespace import DC, RDF, FOAF, RDFS\n",
        "from rdflib import URIRef, BNode, Literal"
      ],
      "execution_count": 8,
      "outputs": []
    },
    {
      "cell_type": "code",
      "metadata": {
        "id": "j9ALUHVXiOLa",
        "colab_type": "code",
        "colab": {}
      },
      "source": [
        "\n",
        "\n",
        "g = Graph()\n",
        "# Graph using N3 syntax\n",
        "n3data = \"\"\"\\\n",
        "@prefix : <http://www.snee.com/ns/Railnetwork#> .\n",
        ":Inverness :hasConnection :Aberdeen ;\n",
        "           :distance      :3 . \n",
        ":Aberdeen :hasConnection :Inverness ;\n",
        "      :distance    :2.5 .\n",
        ":Aberdeen :hasConnection :Leuchars ;\n",
        "           :distance    :1.5 .\n",
        ":Leuchars :hasConnection :Aberdeen ;\n",
        "           :distance    :1 .\n",
        ":Leuchars :hasConnection :Edinburgh ;\n",
        "           :distance    :1.5 .\n",
        ":Edinburgh :hasConnection :Leuchars ;\n",
        "           :distance    :3 .\n",
        ":Edinburgh :hasConnection :Glasgow  ;\n",
        "           :distance    :1  .\n",
        ":Glasgow :hasConnection  :Edinburgh  ;\n",
        "           :distance    :1  .\n",
        ":Edinburgh :hasConnection :York  ;\n",
        "           :distance    :3.5  .\n",
        ":York     :hasConnection :Edinburgh  ;\n",
        "           :distance    :4  .\n",
        ":Glasgow  :hasConnection :Carlisle   ;\n",
        "           :distance    :1  .\n",
        ":Carlisle :hasConnection :Glasgow  ;\n",
        "           :distance    :1  .\n",
        ":Carlisle :hasConnection :York  ;\n",
        "           :distance    :2.5  .\n",
        ":York     :hasConnection :Carlisle   ;\n",
        "           :distance    :3.5  .\n",
        ":Birmingham :hasConnection :London  ;\n",
        "           :distance    :1.5  .\n",
        ":London   :hasConnection :Birmingham ;\n",
        "           :distance    :2.5 .\n",
        ":Leuchars :hasConnection :StAndrews ;\n",
        "           :distance      :0.2 . \n",
        ":StAndrews :hasConnection :Leuchars ;\n",
        "      :distance    :0.2 .\n",
        ":York :hasConnection :London ;\n",
        "           :distance    :1.8 .\n",
        ":London :hasConnection :York ;\n",
        "           :distance    :2.0 .\n",
        ":London\t:hasConnection :Brussels ;\n",
        "\t\t\t     :distance\t  :2.5 .\n",
        ":Brussels :hasConnection :London ;\n",
        "\t\t\t    :distance\t:3.5  .\t\n",
        ":Brussels :hasConnection :Cologne ;\n",
        "           :distance    :2 .\n",
        ":Cologne :hasConnection :Brussels ;\n",
        "           :distance    :1.5 .\n",
        ":Toronto :hasConnection :Winnipeg  ;\n",
        "           :distance    :36  .\n",
        ":Winnipeg :hasConnection  :Toronto  ;\n",
        "           :distance    :35  .\n",
        ":Winnipeg :hasConnection :Saskatoon  ;\n",
        "           :distance    :12  .\n",
        ":Saskatoon :hasConnection :Winnipeg  ;\n",
        "           :distance    :5  .\n",
        ":Saskatoon :hasConnection :Edmonton  ;\n",
        "           :distance    :12  .\n",
        ":Edmonton :hasConnection :Saskatoon  ;\n",
        "           :distance    :17  .\n",
        ":Edmonton :hasConnection :Jasper  ;\n",
        "           :distance    :6  .\n",
        ":Jasper :hasConnection :Edmonton  ;\n",
        "           :distance    :5  .\n",
        ":Jasper :hasConnection :Vancouver  ;\n",
        "           :distance    :12  .\n",
        ":Vancouver :hasConnection :Jasper  ;\n",
        "           :distance    :13  .\"\"\"\n",
        "g.parse(data=n3data, format=\"n3\")\n",
        "#print all triples\n",
        "for s, p, o in g:\n",
        "   print((s, p, o))"
      ],
      "execution_count": null,
      "outputs": []
    },
    {
      "cell_type": "markdown",
      "metadata": {
        "id": "IROwT3MRsKDH",
        "colab_type": "text"
      },
      "source": [
        "# 1.2 Implement a SPARQL query returning all cities which can be reached from London."
      ]
    },
    {
      "cell_type": "code",
      "metadata": {
        "id": "DH2CbFe_6x_7",
        "colab_type": "code",
        "colab": {}
      },
      "source": [
        "result = g.query(\n",
        "    \"\"\"SELECT  ?object\n",
        "WHERE {\n",
        "  :London :hasConnection ?object .\n",
        "}\n",
        "\"\"\")\n",
        "for row in result:\n",
        "    print(row)"
      ],
      "execution_count": null,
      "outputs": []
    }
  ]
}