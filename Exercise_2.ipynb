{
  "nbformat": 4,
  "nbformat_minor": 0,
  "metadata": {
    "colab": {
      "name": "Exercise_2.ipynb",
      "provenance": []
    },
    "kernelspec": {
      "name": "python3",
      "display_name": "Python 3"
    }
  },
  "cells": [
    {
      "cell_type": "markdown",
      "metadata": {
        "id": "p14P4Vjyb4cY"
      },
      "source": [
        "# Graph Powered Machine Learning - Exercise 2\n",
        "\n",
        "Full Name: Shreyas Srinivasa\n",
        "\n",
        "Student Affiliation: AAU\n",
        "\n",
        "Email Address: shsr@es.aau.dk\n"
      ]
    },
    {
      "cell_type": "markdown",
      "metadata": {
        "id": "VLj1GcYUca36"
      },
      "source": [
        "**1. A Comprehensive Survey on Graph Neural Networks**\n",
        "\n",
        "Read sections 1,2,3,6 of the A Comprehensive Survey on Graph Neural Networks\n",
        "and discuss the following questions (roughly 1-2 paragraphs each):"
      ]
    },
    {
      "cell_type": "markdown",
      "metadata": {
        "id": "EA19ibS_co0o"
      },
      "source": [
        "**1.1 How are network embeddings and GCNs related?**\n",
        "\n",
        "Network  embedding  aims  to  represent  network vertices into a low-dimensional vector space, by preservingboth network topology structure and node content informa-tion,  so  that  any  subsequent  graph  analytics  tasks  such  asclassification, clustering, and recommendation can be easilyperformed  by  using  simple  off-the-shelf  learning  machinealgorithm (e.g., support vector machines for classification). \n",
        "Graph Convolutional Neural Networks (GCNs) can be trained using supervised learning methods to create graph embeddings. GCNs generalize the convolution operation used by conventional convolutional neural networks, which can only operate on data structured in grids, to be able to operate on graphs of arbitrary structure. To embed an entire graph, GCNs begin by creating embeddings for each individual node within the graph. Each node’s embedding is created using its features combined with an average of its neighbors embeddings. \n",
        "\n",
        "The final embeddings of all nodes in a graph can be aggregated together to embed the entire graph. Because GCNs embed nodes use a node’s own features and aggregation of its neighbors’ embeddings, they incorporate both node feature information and graph structure information when embedding a graph.GCNs are typically trained using supervised learning methods to classify graphs into a discrete set of categories. The parameters of a GCN can be optimized using gradient descent to minimize its loss on a training set of graphs. In the process of reducing its classification loss, the GCN must learn to generate graph embeddings that distinguish different types of graphs. These embeddings can be extracted and used for other purposes.\n",
        "\n",
        "**1.2 What are the potential outputs of GCNs? Please describe one use-case\n",
        "for each potential output.**\n",
        "\n",
        "\n",
        "\n",
        "\n",
        "\n",
        "**1.3 What are value is added by Graph Attention Networks over GCNs?\n",
        "What are potential disadvantage?**\n",
        "\n",
        "\n",
        "**1.4 Why are GCNs relevant for Computer Vision?**\n",
        "\n",
        "---\n",
        "\n"
      ]
    }
  ]
}