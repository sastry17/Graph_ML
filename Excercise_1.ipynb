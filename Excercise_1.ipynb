{
  "nbformat": 4,
  "nbformat_minor": 0,
  "metadata": {
    "colab": {
      "name": "Excercise-1.ipynb",
      "provenance": []
    },
    "kernelspec": {
      "name": "python3",
      "display_name": "Python 3"
    }
  },
  "cells": [
    {
      "cell_type": "markdown",
      "metadata": {
        "id": "qtuJ-iwUkhxC",
        "colab_type": "text"
      },
      "source": [
        "# Graph Powered Machine Learning - Exercise 1\n",
        "\n",
        "Full Name: Shreyas Srinivasa\n",
        "\n",
        "Student Affiliation: AAU\n",
        "\n",
        "Email Address: shsr@es.aau.dk"
      ]
    },
    {
      "cell_type": "markdown",
      "metadata": {
        "id": "5ZbvYioaru0Y",
        "colab_type": "text"
      },
      "source": [
        "# 1.1  Create an RDF Graph representing the same road network and traveltimes"
      ]
    },
    {
      "cell_type": "code",
      "metadata": {
        "id": "RMCkS1P3_ggY",
        "colab_type": "code",
        "colab": {}
      },
      "source": [
        "%%capture\n",
        "!pip3 install rdflib"
      ],
      "execution_count": null,
      "outputs": []
    },
    {
      "cell_type": "code",
      "metadata": {
        "id": "UTbC4QhwiL-k",
        "colab_type": "code",
        "colab": {}
      },
      "source": [
        "import rdflib\n",
        "from rdflib import Graph\n",
        "from rdflib.namespace import DC, RDF, FOAF, RDFS\n",
        "from rdflib import URIRef, BNode, Literal"
      ],
      "execution_count": null,
      "outputs": []
    },
    {
      "cell_type": "code",
      "metadata": {
        "id": "j9ALUHVXiOLa",
        "colab_type": "code",
        "colab": {}
      },
      "source": [
        "\n",
        "\n",
        "g = Graph()\n",
        "\n",
        "\n",
        "# Graph using N3 syntax\n",
        "n3data = \"\"\"\\\n",
        "@prefix : <http://www.snee.com/ns/Railnetwork#> .\n",
        ":Inverness :hasConnection :Aberdeen ;\n",
        "           :distance      :3 . \n",
        ":Aberdeen :hasConnection :Inverness ;\n",
        "      :distance    :2.5 .\n",
        ":Aberdeen :hasConnection :Leuchars ;\n",
        "           :distance    :1.5 .\n",
        ":Leuchars :hasConnection :Aberdeen ;\n",
        "           :distance    :1 .\n",
        ":Leuchars :hasConnection :Edinburgh ;\n",
        "           :distance    :1.5 .\n",
        ":Edinburgh :hasConnection :Leuchars ;\n",
        "           :distance    :3 .\n",
        ":Edinburgh :hasConnection :Glasgow  ;\n",
        "           :distance    :1  .\n",
        ":Glasgow :hasConnection  :Edinburgh  ;\n",
        "           :distance    :1  .\n",
        ":Edinburgh :hasConnection :York  ;\n",
        "           :distance    :3.5  .\n",
        ":York     :hasConnection :Edinburgh  ;\n",
        "           :distance    :4  .\n",
        ":Glasgow  :hasConnection :Carlisle   ;\n",
        "           :distance    :1  .\n",
        ":Carlisle :hasConnection :Glasgow  ;\n",
        "           :distance    :1  .\n",
        ":Carlisle :hasConnection :York  ;\n",
        "           :distance    :2.5  .\n",
        ":York     :hasConnection :Carlisle   ;\n",
        "           :distance    :3.5  .\n",
        ":Birmingham :hasConnection :London  ;\n",
        "           :distance    :1.5  .\n",
        ":London   :hasConnection :Birmingham ;\n",
        "           :distance    :2.5 .\n",
        ":Leuchars :hasConnection :StAndrews ;\n",
        "           :distance      :0.2 . \n",
        ":StAndrews :hasConnection :Leuchars ;\n",
        "      :distance    :0.2 .\n",
        ":York :hasConnection :London ;\n",
        "           :distance    :1.8 .\n",
        ":London :hasConnection :York ;\n",
        "           :distance    :2 .\n",
        ":London\t:hasConnection :Brussels ;\n",
        "\t\t\t     :distance\t  :2.50 .\n",
        ":Brussels :hasConnection :London ;\n",
        "\t\t\t    :distance\t:3.5  .\t\n",
        ":Brussels :hasConnection :Cologne ;\n",
        "           :distance    :2 .\n",
        ":Cologne :hasConnection :Brussels ;\n",
        "           :distance    :1.5 .\n",
        ":Toronto :hasConnection :Winnipeg  ;\n",
        "           :distance    :36  .\n",
        ":Winnipeg :hasConnection  :Toronto  ;\n",
        "           :distance    :35  .\n",
        ":Winnipeg :hasConnection :Saskatoon  ;\n",
        "           :distance    :12  .\n",
        ":Saskatoon :hasConnection :Winnipeg  ;\n",
        "           :distance    :5  .\n",
        ":Saskatoon :hasConnection :Edmonton  ;\n",
        "           :distance    :12  .\n",
        ":Edmonton :hasConnection :Saskatoon  ;\n",
        "           :distance    :17  .\n",
        ":Edmonton :hasConnection :Jasper  ;\n",
        "           :distance    :6  .\n",
        ":Jasper :hasConnection :Edmonton  ;\n",
        "           :distance    :5  .\n",
        ":Jasper :hasConnection :Vancouver  ;\n",
        "           :distance    :12  .\n",
        ":Vancouver :hasConnection :Jasper  ;\n",
        "           :distance    :13  .\"\"\"\n",
        "g.parse(data=n3data, format=\"n3\")\n",
        "#print all triples\n",
        "for s, p, o in g:\n",
        "   print((s, p, o))"
      ],
      "execution_count": null,
      "outputs": []
    },
    {
      "cell_type": "markdown",
      "metadata": {
        "id": "vqcNlM1YMzam",
        "colab_type": "text"
      },
      "source": [
        "another way"
      ]
    },
    {
      "cell_type": "code",
      "metadata": {
        "id": "tj2NC3LJMjfJ",
        "colab_type": "code",
        "colab": {}
      },
      "source": [
        "g = Graph()\n",
        "\n",
        "#defining the distance as edge word\n",
        "distance = rdflib.URIRef('http://www.example.org/distance')\n",
        "\n",
        "cities = [\n",
        "    \"Inverness\",\n",
        "    \"Aberdeen\",\n",
        "    \"Leuchars\",\n",
        "    \"StAndrews\",\n",
        "    \"Edinburgh\",\n",
        "    \"Glasgow\",\n",
        "    \"York\",\n",
        "    \"Cologne\",\n",
        "    \"Carlisle\",\n",
        "    \"Birmingham\",\n",
        "    \"London\",\n",
        "    \"Brussels\",\n",
        "    \"Toronto\",\n",
        "    \"Winnipeg\",\n",
        "    \"Saskatoon\",\n",
        "    \"Edmonton\",\n",
        "    \"Jasper\",\n",
        "    \"Vancouver\"\n",
        "  ];\n",
        "\n",
        "\n",
        "\n",
        "for city in cities:\n",
        "  urirefs = \"http://www.example.org/\"+city\n",
        "  print(urirefs)\n",
        "  city = rdflib.URIRef('http://www.example.org/'+city)\n",
        "\n",
        "\n",
        "\n",
        "\n",
        "\n"
      ],
      "execution_count": null,
      "outputs": []
    },
    {
      "cell_type": "markdown",
      "metadata": {
        "id": "IROwT3MRsKDH",
        "colab_type": "text"
      },
      "source": [
        "# 1.2 Implement a SPARQL query returning all cities which can be reached from London."
      ]
    },
    {
      "cell_type": "code",
      "metadata": {
        "id": "DH2CbFe_6x_7",
        "colab_type": "code",
        "colab": {}
      },
      "source": [
        "result = g.query(\n",
        "    \"\"\"SELECT DISTINCT  ?o\n",
        "WHERE {\n",
        "  :London :hasConnection ?o .\n",
        "}\n",
        "\"\"\")\n",
        "for row in result:\n",
        "  #print(\"%s has connection with %s\" % row)\n",
        "   print(row)"
      ],
      "execution_count": null,
      "outputs": []
    },
    {
      "cell_type": "markdown",
      "metadata": {
        "id": "uhzpVw-lBezJ",
        "colab_type": "text"
      },
      "source": [
        "# 1.3 Implement generic python code (i.e., the algorithms don't have to be speci\fed in SPARQL, but could be) for the Single Source Shortest Path algorithm and return the shortest paths to all other cities starting from London. You can choose either Dijkstra's or Bellman-Ford's algorithm."
      ]
    },
    {
      "cell_type": "code",
      "metadata": {
        "id": "u0eO6EkYByix",
        "colab_type": "code",
        "colab": {}
      },
      "source": [
        "result = g.query(\n",
        "    \"\"\"SELECT DISTINCT  ?o\n",
        "WHERE {\n",
        "  :London :hasConnection ?o .\n",
        "}\n",
        "\"\"\")\n",
        "for row in result:\n",
        "  #print(\"%s has connection with %s\" % row)\n",
        "   print(row)"
      ],
      "execution_count": null,
      "outputs": []
    },
    {
      "cell_type": "markdown",
      "metadata": {
        "id": "oKml8JFevk9o",
        "colab_type": "text"
      },
      "source": [
        "# 2.0 Pagerank\n",
        "For a given directed networkx Graph (e.g., G = nx.DiGraph(nx.path graph(4))  write a PageRank algorithm using python from scratch (i.e., don't use nx.pagerank()).\n",
        "Your PageRank algorithm should consider a parameter alpha, representing\n",
        "the damping factor and return a dictionary of nodes with their PageRank as\n",
        "value."
      ]
    },
    {
      "cell_type": "code",
      "metadata": {
        "id": "Ra3CXpVZv-Lc",
        "colab_type": "code",
        "colab": {}
      },
      "source": [
        "import networkx as nx\n",
        "import matplotlib.pyplot as plt\n",
        "import numpy as np\n",
        "from scipy.sparse import csc_matrix"
      ],
      "execution_count": 1,
      "outputs": []
    },
    {
      "cell_type": "code",
      "metadata": {
        "id": "R83O1r0s2VNx",
        "colab_type": "code",
        "colab": {
          "base_uri": "https://localhost:8080/",
          "height": 357
        },
        "outputId": "7cc58f36-dfe9-4013-889a-ab203d7b65ec"
      },
      "source": [
        "def pageRank(G, alpha = .85, maxerr = .0001):\n",
        "\n",
        "    \n",
        "    \"\"\"\n",
        "    Computes the pagerank for each of the n states\n",
        "    Parameters\n",
        "    ----------\n",
        "    G: matrix representing state transitions\n",
        "    alpha: damping factor \n",
        "    maxerr: if the sum of pageranks between iterations is below this we will\n",
        "            have converged.\n",
        "    \"\"\"\n",
        "\n",
        "   \n",
        "    #Constructing a numpy array from the graph and shaping it\n",
        "    G = nx.to_numpy_matrix(G)\n",
        "    n = G.shape[0]\n",
        "\n",
        "    # transform G into markov matrix M\n",
        "    M = csc_matrix(G,dtype=np.float)\n",
        "    rsums = np.array(M.sum(1))[:,0]\n",
        "    ri, ci = M.nonzero()\n",
        "    M.data /= rsums[ri]\n",
        "\n",
        "    # bool array of sink states\n",
        "    sink = rsums==0\n",
        "\n",
        "    # Compute pagerank \"r\" until we converge\n",
        "    ro, r = np.zeros(n), np.ones(n)\n",
        "    while np.sum(np.abs(r-ro)) > maxerr:\n",
        "        ro = r.copy()\n",
        "        # calculate each pagerank at a time\n",
        "        for i in range(0,n):\n",
        "            # inlinks of state i\n",
        "            Mi = np.array(M[:,i].todense())[:,0]\n",
        "            # Account for sink states\n",
        "            Di = sink / float(n)\n",
        "            # Account for teleportation to state i\n",
        "            Ei = np.ones(n) / float(n)\n",
        "\n",
        "            r[i] = ro.dot( Mi*alpha + Di*alpha + Ei*(1-alpha) )\n",
        "\n",
        "    # return normalized pagerank\n",
        "    return r/float(sum(r))\n",
        "    \n",
        "\n",
        "if __name__ == '__main__':\n",
        "    \n",
        "    \n",
        "    \"\"\"\n",
        "    Generating a random directed graph G\n",
        "    \"\"\"\n",
        "    \n",
        "    # setting the number of nodes\n",
        "    nodes = 20\n",
        "    \n",
        "    #G = nx.gn_graph(nodes)\n",
        "    G = nx.gnr_graph(nodes, 0.5)\n",
        "   \n",
        "    nx.draw(G, with_labels = True)\n",
        "    plt.show()\n",
        "    \n",
        "    \n",
        "    \n",
        "    \"\"\"\n",
        "    computing pagerank\n",
        "    \"\"\"\n",
        "    score = pageRank(G, 0.85, .0001)\n",
        "     \n",
        "    rank = {}\n",
        "    \n",
        "    \n",
        "    \n",
        "    for i in range(0,nodes):\n",
        "         rank[i] = score[i]\n",
        "    \n",
        "    print(rank)"
      ],
      "execution_count": 9,
      "outputs": [
        {
          "output_type": "display_data",
          "data": {
            "image/png": "[encoded data removed]",
            "text/plain": [
              "<Figure size 432x288 with 1 Axes>"
            ]
          },
          "metadata": {
            "tags": []
          }
        },
        {
          "output_type": "stream",
          "text": [
            "{0: 0.3299532214939014, 1: 0.021522999010540892, 2: 0.11025182723885542, 3: 0.039817646775049974, 4: 0.021522999010540892, 5: 0.03981764677504997, 6: 0.021522999010540892, 7: 0.08688049209522487, 8: 0.021522999010540892, 9: 0.0553678839453282, 10: 0.03981764677504997, 11: 0.021522999010540892, 12: 0.021522999010540892, 13: 0.021522999010540892, 14: 0.021522999010540892, 15: 0.03981764677504997, 16: 0.021522999010540892, 17: 0.021522999010540892, 18: 0.021522999010540892, 19: 0.021522999010540892}\n"
          ],
          "name": "stdout"
        }
      ]
    }
  ]
}